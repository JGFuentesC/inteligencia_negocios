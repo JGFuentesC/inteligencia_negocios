{
 "cells": [
  {
   "cell_type": "markdown",
   "metadata": {},
   "source": [
    "## Dependencias "
   ]
  },
  {
   "cell_type": "code",
   "execution_count": 1,
   "metadata": {},
   "outputs": [],
   "source": [
    "import numpy as np \n",
    "import pandas as pd\n",
    "from functools import reduce\n",
    "import json \n",
    "from sqlalchemy.engine import create_engine\n",
    "\n",
    "pd.set_option('display.max_columns', None)"
   ]
  },
  {
   "cell_type": "markdown",
   "metadata": {},
   "source": [
    "## Lectura de datos"
   ]
  },
  {
   "cell_type": "code",
   "execution_count": 2,
   "metadata": {},
   "outputs": [
    {
     "data": {
      "text/plain": [
       "(885, 22)"
      ]
     },
     "execution_count": 2,
     "metadata": {},
     "output_type": "execute_result"
    }
   ],
   "source": [
    "df = pd.read_csv('data/sme_survey_mx_clean.csv')\n",
    "df.shape"
   ]
  },
  {
   "cell_type": "code",
   "execution_count": 3,
   "metadata": {},
   "outputs": [
    {
     "data": {
      "text/html": [
       "<div>\n",
       "<style scoped>\n",
       "    .dataframe tbody tr th:only-of-type {\n",
       "        vertical-align: middle;\n",
       "    }\n",
       "\n",
       "    .dataframe tbody tr th {\n",
       "        vertical-align: top;\n",
       "    }\n",
       "\n",
       "    .dataframe thead th {\n",
       "        text-align: right;\n",
       "    }\n",
       "</style>\n",
       "<table border=\"1\" class=\"dataframe\">\n",
       "  <thead>\n",
       "    <tr style=\"text-align: right;\">\n",
       "      <th></th>\n",
       "      <th>id</th>\n",
       "      <th>edadEmprendedor</th>\n",
       "      <th>sexoEmprendedor</th>\n",
       "      <th>escolaridadEmprendedor</th>\n",
       "      <th>dependientesEconomicos</th>\n",
       "      <th>estadoCivil</th>\n",
       "      <th>familiaAyuda</th>\n",
       "      <th>antiguedadNegocio</th>\n",
       "      <th>horaApertura</th>\n",
       "      <th>horaCierre</th>\n",
       "      <th>giroNegocio</th>\n",
       "      <th>numEmpleados</th>\n",
       "      <th>ventasPromedioDiarias</th>\n",
       "      <th>deseoNegocio</th>\n",
       "      <th>registroVentas</th>\n",
       "      <th>registroContabilidad</th>\n",
       "      <th>altaSAT</th>\n",
       "      <th>usaCredito</th>\n",
       "      <th>tiempoCreditoProveedores</th>\n",
       "      <th>promocionNegocio</th>\n",
       "      <th>latitud</th>\n",
       "      <th>longitud</th>\n",
       "    </tr>\n",
       "  </thead>\n",
       "  <tbody>\n",
       "    <tr>\n",
       "      <th>0</th>\n",
       "      <td>E00000000</td>\n",
       "      <td>54</td>\n",
       "      <td>H</td>\n",
       "      <td>universidad trunca</td>\n",
       "      <td>3</td>\n",
       "      <td>casado</td>\n",
       "      <td>False</td>\n",
       "      <td>35.0</td>\n",
       "      <td>9</td>\n",
       "      <td>18</td>\n",
       "      <td>servicios para el hogar (cerrajería, plomería,...</td>\n",
       "      <td>3</td>\n",
       "      <td>3500.0</td>\n",
       "      <td>eficacia</td>\n",
       "      <td>en un cuaderno</td>\n",
       "      <td>en un sistema especial</td>\n",
       "      <td>s</td>\n",
       "      <td>False</td>\n",
       "      <td>no me dan crédito</td>\n",
       "      <td>publicidad exterior|redes sociales (sin pagar)...</td>\n",
       "      <td>19.453446</td>\n",
       "      <td>-99.168899</td>\n",
       "    </tr>\n",
       "    <tr>\n",
       "      <th>1</th>\n",
       "      <td>E00000001</td>\n",
       "      <td>56</td>\n",
       "      <td>M</td>\n",
       "      <td>universidad terminado</td>\n",
       "      <td>2</td>\n",
       "      <td>viudo</td>\n",
       "      <td>False</td>\n",
       "      <td>37.0</td>\n",
       "      <td>8</td>\n",
       "      <td>15</td>\n",
       "      <td>comercio minorista de materias primas</td>\n",
       "      <td>3</td>\n",
       "      <td>4500.0</td>\n",
       "      <td>bodega</td>\n",
       "      <td>en excel</td>\n",
       "      <td>en excel</td>\n",
       "      <td>s</td>\n",
       "      <td>False</td>\n",
       "      <td>no me dan crédito</td>\n",
       "      <td>publicidad exterior|redes sociales (sin pagar)</td>\n",
       "      <td>19.486575</td>\n",
       "      <td>-99.204668</td>\n",
       "    </tr>\n",
       "  </tbody>\n",
       "</table>\n",
       "</div>"
      ],
      "text/plain": [
       "          id  edadEmprendedor sexoEmprendedor escolaridadEmprendedor  \\\n",
       "0  E00000000               54               H     universidad trunca   \n",
       "1  E00000001               56               M  universidad terminado   \n",
       "\n",
       "   dependientesEconomicos estadoCivil  familiaAyuda  antiguedadNegocio  \\\n",
       "0                       3      casado         False               35.0   \n",
       "1                       2       viudo         False               37.0   \n",
       "\n",
       "   horaApertura  horaCierre  \\\n",
       "0             9          18   \n",
       "1             8          15   \n",
       "\n",
       "                                         giroNegocio  numEmpleados  \\\n",
       "0  servicios para el hogar (cerrajería, plomería,...             3   \n",
       "1              comercio minorista de materias primas             3   \n",
       "\n",
       "   ventasPromedioDiarias deseoNegocio  registroVentas    registroContabilidad  \\\n",
       "0                 3500.0     eficacia  en un cuaderno  en un sistema especial   \n",
       "1                 4500.0       bodega        en excel                en excel   \n",
       "\n",
       "  altaSAT  usaCredito tiempoCreditoProveedores  \\\n",
       "0       s       False        no me dan crédito   \n",
       "1       s       False        no me dan crédito   \n",
       "\n",
       "                                    promocionNegocio    latitud   longitud  \n",
       "0  publicidad exterior|redes sociales (sin pagar)...  19.453446 -99.168899  \n",
       "1     publicidad exterior|redes sociales (sin pagar)  19.486575 -99.204668  "
      ]
     },
     "execution_count": 3,
     "metadata": {},
     "output_type": "execute_result"
    }
   ],
   "source": [
    "df.head(2)"
   ]
  },
  {
   "cell_type": "markdown",
   "metadata": {},
   "source": [
    "## Dimensiones "
   ]
  },
  {
   "cell_type": "code",
   "execution_count": 4,
   "metadata": {},
   "outputs": [
    {
     "data": {
      "text/plain": [
       "Index(['id', 'edadEmprendedor', 'sexoEmprendedor', 'escolaridadEmprendedor',\n",
       "       'dependientesEconomicos', 'estadoCivil', 'familiaAyuda',\n",
       "       'antiguedadNegocio', 'horaApertura', 'horaCierre', 'giroNegocio',\n",
       "       'numEmpleados', 'ventasPromedioDiarias', 'deseoNegocio',\n",
       "       'registroVentas', 'registroContabilidad', 'altaSAT', 'usaCredito',\n",
       "       'tiempoCreditoProveedores', 'promocionNegocio', 'latitud', 'longitud'],\n",
       "      dtype='object')"
      ]
     },
     "execution_count": 4,
     "metadata": {},
     "output_type": "execute_result"
    }
   ],
   "source": [
    "df.columns"
   ]
  },
  {
   "cell_type": "code",
   "execution_count": 5,
   "metadata": {},
   "outputs": [],
   "source": [
    "dims = ['edadEmprendedor', 'sexoEmprendedor', 'escolaridadEmprendedor',\n",
    "       'dependientesEconomicos', 'estadoCivil', 'familiaAyuda',\n",
    "       'antiguedadNegocio', 'horaApertura', 'horaCierre', 'giroNegocio',\n",
    "       'numEmpleados','registroVentas', 'registroContabilidad', 'altaSAT', 'usaCredito',\n",
    "       'tiempoCreditoProveedores']"
   ]
  },
  {
   "cell_type": "markdown",
   "metadata": {},
   "source": [
    "### Edad "
   ]
  },
  {
   "cell_type": "code",
   "execution_count": 6,
   "metadata": {},
   "outputs": [
    {
     "data": {
      "text/plain": [
       "(45.0, 60.0]       336\n",
       "(30.0, 45.0]       298\n",
       "(60.0, 99.0]       131\n",
       "(-99.001, 30.0]    120\n",
       "Name: dim_edad, dtype: int64"
      ]
     },
     "execution_count": 6,
     "metadata": {},
     "output_type": "execute_result"
    }
   ],
   "source": [
    "df['edadEmprendedor']\n",
    "df['dim_edad'] = pd.cut(df['edadEmprendedor'],bins=[-99,30,45,60,99],include_lowest=True).astype(str)\n",
    "df['dim_edad'].value_counts()"
   ]
  },
  {
   "cell_type": "markdown",
   "metadata": {},
   "source": [
    "### Sexo"
   ]
  },
  {
   "cell_type": "code",
   "execution_count": 7,
   "metadata": {},
   "outputs": [],
   "source": [
    "df['dim_sexo'] = df['sexoEmprendedor']"
   ]
  },
  {
   "cell_type": "markdown",
   "metadata": {},
   "source": [
    "### Escolaridad"
   ]
  },
  {
   "cell_type": "code",
   "execution_count": 8,
   "metadata": {},
   "outputs": [
    {
     "data": {
      "text/plain": [
       "básica          0.509605\n",
       "bachillerato    0.331073\n",
       "universidad     0.159322\n",
       "Name: dim_escolaridad, dtype: float64"
      ]
     },
     "execution_count": 8,
     "metadata": {},
     "output_type": "execute_result"
    }
   ],
   "source": [
    "mapaEscolaridad = {\n",
    "        'universidad trunca':'bachillerato', \n",
    "        'universidad terminado':'universidad', \n",
    "        'secundaria':'básica',\n",
    "        'bachillerato terminado':'bachillerato', \n",
    "        'primaria':'básica', \n",
    "        'bachillerato trunco':'básica',\n",
    "       'posgrado':'universidad'}\n",
    "df['dim_escolaridad'] = df['escolaridadEmprendedor'].replace(mapaEscolaridad)\n",
    "df['dim_escolaridad'].value_counts(1)    "
   ]
  },
  {
   "cell_type": "markdown",
   "metadata": {},
   "source": [
    "### Dependientes económicos"
   ]
  },
  {
   "cell_type": "code",
   "execution_count": 9,
   "metadata": {},
   "outputs": [
    {
     "data": {
      "text/plain": [
       "0     0.140113\n",
       "1     0.180791\n",
       "2     0.277966\n",
       "3     0.193220\n",
       "4     0.109605\n",
       "5+    0.098305\n",
       "Name: dim_dependientes, dtype: float64"
      ]
     },
     "execution_count": 9,
     "metadata": {},
     "output_type": "execute_result"
    }
   ],
   "source": [
    "df['dim_dependientes'] = df['dependientesEconomicos'].map(lambda x: '5+' if x>=5 else str(x))\n",
    "df['dim_dependientes'].value_counts(1).sort_index()"
   ]
  },
  {
   "cell_type": "markdown",
   "metadata": {},
   "source": [
    "### Estado civil "
   ]
  },
  {
   "cell_type": "code",
   "execution_count": 10,
   "metadata": {},
   "outputs": [],
   "source": [
    "df['dim_estado_civil'] = df['estadoCivil']"
   ]
  },
  {
   "cell_type": "markdown",
   "metadata": {},
   "source": [
    "### Ayuda de la familia"
   ]
  },
  {
   "cell_type": "code",
   "execution_count": 11,
   "metadata": {},
   "outputs": [],
   "source": [
    "df['dim_familia_ayuda'] = df['familiaAyuda']"
   ]
  },
  {
   "cell_type": "markdown",
   "metadata": {},
   "source": [
    "### Antigüedad del negocio"
   ]
  },
  {
   "cell_type": "code",
   "execution_count": 12,
   "metadata": {},
   "outputs": [
    {
     "data": {
      "text/plain": [
       "(-99.001, 2.0]    0.186441\n",
       "(10.0, 99.0]      0.409040\n",
       "(2.0, 5.0]        0.177401\n",
       "(5.0, 10.0]       0.227119\n",
       "Name: dim_antiguedad, dtype: float64"
      ]
     },
     "execution_count": 12,
     "metadata": {},
     "output_type": "execute_result"
    }
   ],
   "source": [
    "df['dim_antiguedad'] = pd.cut(df['antiguedadNegocio'],bins=[-99,2,5,10,99],include_lowest=True).astype(str)\n",
    "df['dim_antiguedad'].value_counts(1).sort_index()"
   ]
  },
  {
   "cell_type": "markdown",
   "metadata": {},
   "source": [
    "### Horas de apertura y cierre"
   ]
  },
  {
   "cell_type": "code",
   "execution_count": 13,
   "metadata": {},
   "outputs": [
    {
     "data": {
      "text/plain": [
       "10     0.161582\n",
       "11+    0.215819\n",
       "8      0.228249\n",
       "9      0.236158\n",
       "<=7    0.158192\n",
       "Name: dim_hora_apertura, dtype: float64"
      ]
     },
     "execution_count": 13,
     "metadata": {},
     "output_type": "execute_result"
    }
   ],
   "source": [
    "df['dim_hora_apertura'] = df['horaApertura'].map(lambda x: '<=7' if x<=7 else '11+' if x>=11 else str(x))\n",
    "df['dim_hora_apertura'].value_counts(1).sort_index()"
   ]
  },
  {
   "cell_type": "code",
   "execution_count": 14,
   "metadata": {},
   "outputs": [
    {
     "data": {
      "text/plain": [
       "18      0.168362\n",
       "19      0.138983\n",
       "20      0.162712\n",
       "21      0.105085\n",
       "22+     0.153672\n",
       "<=17    0.271186\n",
       "Name: dim_hora_cierre, dtype: float64"
      ]
     },
     "execution_count": 14,
     "metadata": {},
     "output_type": "execute_result"
    }
   ],
   "source": [
    "df['dim_hora_cierre'] = df['horaCierre'].map(lambda x: '<=17' if x<=17 else '22+' if x>=22 else str(x))\n",
    "df['dim_hora_cierre'].value_counts(1).sort_index()"
   ]
  },
  {
   "cell_type": "markdown",
   "metadata": {},
   "source": [
    "### Giro del negocio"
   ]
  },
  {
   "cell_type": "code",
   "execution_count": 15,
   "metadata": {},
   "outputs": [
    {
     "data": {
      "text/plain": [
       "Alimentos y bebidas                0.179661\n",
       "Comercio minorista                 0.575141\n",
       "Educación                          0.002260\n",
       "Otros                              0.002260\n",
       "Salud y belleza                    0.010169\n",
       "Servicios comerciales              0.003390\n",
       "Servicios de salud                 0.048588\n",
       "Servicios de telecomunicaciones    0.010169\n",
       "Servicios para el hogar            0.068927\n",
       "Servicios personales               0.097175\n",
       "Servicios profesionales            0.002260\n",
       "Name: dim_giro, dtype: float64"
      ]
     },
     "execution_count": 15,
     "metadata": {},
     "output_type": "execute_result"
    }
   ],
   "source": [
    "df['dim_giro'] = df['giroNegocio'].replace(\n",
    "  {\n",
    "    'servicios para el hogar (cerrajería, plomería, jardinería, etc)': 'Servicios para el hogar',\n",
    "    'comercio minorista de materias primas': 'Comercio minorista',\n",
    "    'servicios  personales(estéticas, spa, uñas, barberías, etc)': 'Servicios personales',\n",
    "    'comercio minorista de productos terminados': 'Comercio minorista',\n",
    "    'fonda o restaurante/alimentos': 'Alimentos y bebidas',\n",
    "    'reparación de celulares.': 'Servicios para el hogar',\n",
    "    'estampados y publicidad.': 'Servicios comerciales',\n",
    "    'consultorios médicos, dentales, veterinarios': 'Servicios de salud',\n",
    "    'farmacia ': 'Salud y belleza',\n",
    "    'planchaduría ': 'Servicios personales',\n",
    "    'lonas y reparación ': 'Servicios comerciales',\n",
    "    'planchaduría': 'Servicios personales',\n",
    "    'librería ': 'Comercio minorista',\n",
    "    'papelería ': 'Comercio minorista',\n",
    "    'cafe internet': 'Servicios de telecomunicaciones',\n",
    "    'frenos': 'Servicios para el hogar',\n",
    "    'escuela de manejo': 'Educación',\n",
    "    'vulcanizadora': 'Servicios para el hogar',\n",
    "    'negocio mercantil con giro comercial en venta de tortillas': 'Comercio minorista',\n",
    "    'pasteleria': 'Alimentos y bebidas',\n",
    "    'costurero': 'Servicios personales',\n",
    "    'cafe internet ': 'Servicios de telecomunicaciones',\n",
    "    'mecánico ': 'Servicios para el hogar',\n",
    "    'sastrería ': 'Servicios personales',\n",
    "    'publicidad ': 'Servicios comerciales',\n",
    "    'café internet ': 'Servicios de telecomunicaciones',\n",
    "    'purificadora de agua.': 'Servicios para el hogar',\n",
    "    'brujería': 'Otros',\n",
    "    'reparaciones electrónicas.': 'Servicios para el hogar',\n",
    "    'taller de motocicletas': 'Servicios para el hogar',\n",
    "    'jarceria, productos de limpieza': 'Comercio minorista',\n",
    "    'café internet': 'Servicios de telecomunicaciones',\n",
    "    'manufacturera ': 'Comercio minorista',\n",
    "    'internet': 'Servicios de telecomunicaciones',\n",
    "    'productos de limpieza ': 'Comercio minorista',\n",
    "    'artículos de limpieza ': 'Comercio minorista',\n",
    "    'semillas ': 'Comercio minorista',\n",
    "    'calzado ': 'Comercio minorista',\n",
    "    'sandalias': 'Comercio minorista',\n",
    "    'tlapaleria  ': 'Comercio minorista',\n",
    "    'accesorios para mascotas ': 'Comercio minorista',\n",
    "    'rea pa uno de zapatos ': 'Servicios personales',\n",
    "    'repostería ': 'Alimentos y bebidas',\n",
    "    'accesorios telefónicos ': 'Comercio minorista',\n",
    "    'tienda': 'Comercio minorista',\n",
    "    'regalos': 'Comercio minorista',\n",
    "    'pintura': 'Comercio minorista',\n",
    "    'verdulería ': 'Comercio minorista',\n",
    "    'productos decorativos ': 'Comercio minorista',\n",
    "    'cremeria ': 'Alimentos y bebidas',\n",
    "    'banquetes': 'Alimentos y bebidas',\n",
    "    'suspensiones y ruedas de méxico': 'Servicios para el hogar',\n",
    "    'accesorios para mascota': 'Comercio minorista',\n",
    "    'farmacia': 'Salud y belleza',\n",
    "    'cibercafé': 'Servicios de telecomunicaciones',\n",
    "    'pictórica': 'Otros',\n",
    "    'jarcería': 'Comercio minorista',\n",
    "    'telecomunicaciones ': 'Servicios de telecomunicaciones',\n",
    "    'zapatería ': 'Comercio minorista',\n",
    "    'bazar': 'Comercio minorista',\n",
    "    'abarrotes ': 'Comercio minorista',\n",
    "    'recaudería': 'Comercio minorista',\n",
    "    'recaudería ': 'Comercio minorista',\n",
    "    'reparadora de calzado ': 'Servicios para el hogar',\n",
    "    'internet ': 'Servicios de telecomunicaciones',\n",
    "    'estética ': 'Servicios personales',\n",
    "    'carnicería ': 'Alimentos y bebidas',\n",
    "    'pollería ': 'Alimentos y bebidas',\n",
    "    'reparadora de electrodomésticos ': 'Servicios para el hogar',\n",
    "    'pastelería ': 'Alimentos y bebidas',\n",
    "    'herrajes y tlapalería': 'Comercio minorista',\n",
    "    'tortillería ': 'Comercio minorista',\n",
    "    'rosticeria ': 'Alimentos y bebidas',\n",
    "    'servicios de reparación': 'Servicios para el hogar',\n",
    "    'automotriz': 'Servicios para el hogar',\n",
    "    'tintoreria y limpieza': 'Servicios personales',\n",
    "    'academia de danza': 'Educación',\n",
    "    'tlapaleria ': 'Comercio minorista',\n",
    "    'salud y belleza': 'Salud y belleza',\n",
    "    'frutas y verduras ': 'Comercio minorista',\n",
    "    'ropa': 'Comercio minorista',\n",
    "    'de temporada': 'Comercio minorista',\n",
    "    'veterinaria': 'Servicios de salud',\n",
    "    'despacho jurídico ': 'Servicios profesionales',\n",
    "    'despacho contable': 'Servicios profesionales',\n",
    "    'tortillería': 'Comercio minorista',\n",
    "    'panadería': 'Alimentos y bebidas',\n",
    "    'reparaciones celulares': 'Servicios para el hogar',\n",
    "    'estetica': 'Servicios personales'\n",
    "}\n",
    ")\n",
    "df['dim_giro'].value_counts(1).sort_index()"
   ]
  },
  {
   "cell_type": "markdown",
   "metadata": {},
   "source": [
    "### Empleados"
   ]
  },
  {
   "cell_type": "code",
   "execution_count": 16,
   "metadata": {},
   "outputs": [
    {
     "data": {
      "text/plain": [
       "0     0.275706\n",
       "1     0.258757\n",
       "2     0.245198\n",
       "3+    0.220339\n",
       "Name: dim_empleados, dtype: float64"
      ]
     },
     "execution_count": 16,
     "metadata": {},
     "output_type": "execute_result"
    }
   ],
   "source": [
    "df['dim_empleados'] = df['numEmpleados'].map(lambda x: '3+' if x>=3 else str(x))\n",
    "df['dim_empleados'].value_counts(1).sort_index()"
   ]
  },
  {
   "cell_type": "markdown",
   "metadata": {},
   "source": [
    "### Registro de ventas y contabilidad "
   ]
  },
  {
   "cell_type": "code",
   "execution_count": 17,
   "metadata": {},
   "outputs": [
    {
     "data": {
      "text/plain": [
       "en excel                  0.110734\n",
       "en un cuaderno            0.517514\n",
       "en un sistema especial    0.091525\n",
       "no registro               0.280226\n",
       "Name: dim_ventas, dtype: float64"
      ]
     },
     "metadata": {},
     "output_type": "display_data"
    },
    {
     "data": {
      "text/plain": [
       "en excel                  0.160452\n",
       "en un cuaderno            0.436158\n",
       "en un sistema especial    0.131073\n",
       "no registro               0.272316\n",
       "Name: dim_contabilidad, dtype: float64"
      ]
     },
     "metadata": {},
     "output_type": "display_data"
    }
   ],
   "source": [
    "for x in ['Ventas','Contabilidad']:\n",
    "    df[f'dim_{x.lower()}'] = df[f'registro{x}']\n",
    "    display(df[f'dim_{x.lower()}'].value_counts(1).sort_index())"
   ]
  },
  {
   "cell_type": "markdown",
   "metadata": {},
   "source": [
    "### SAT"
   ]
  },
  {
   "cell_type": "code",
   "execution_count": 18,
   "metadata": {},
   "outputs": [],
   "source": [
    "df['dim_sat'] = df['altaSAT']"
   ]
  },
  {
   "cell_type": "markdown",
   "metadata": {},
   "source": [
    "### Crédito"
   ]
  },
  {
   "cell_type": "code",
   "execution_count": 19,
   "metadata": {},
   "outputs": [],
   "source": [
    "df['dim_credito'] = df['usaCredito']"
   ]
  },
  {
   "cell_type": "markdown",
   "metadata": {},
   "source": [
    "### Tiempo de crédito"
   ]
  },
  {
   "cell_type": "code",
   "execution_count": 20,
   "metadata": {},
   "outputs": [],
   "source": [
    "df['dim_credito_proveedor'] = df['tiempoCreditoProveedores']"
   ]
  },
  {
   "cell_type": "markdown",
   "metadata": {},
   "source": [
    "### Promoción del negocio"
   ]
  },
  {
   "cell_type": "code",
   "execution_count": 21,
   "metadata": {},
   "outputs": [],
   "source": [
    "medios = reduce(lambda x,y: x.union(y),df['promocionNegocio'].map(lambda x:x.split('|')).map(set))"
   ]
  },
  {
   "cell_type": "code",
   "execution_count": 43,
   "metadata": {},
   "outputs": [
    {
     "data": {
      "text/html": [
       "<div>\n",
       "<style scoped>\n",
       "    .dataframe tbody tr th:only-of-type {\n",
       "        vertical-align: middle;\n",
       "    }\n",
       "\n",
       "    .dataframe tbody tr th {\n",
       "        vertical-align: top;\n",
       "    }\n",
       "\n",
       "    .dataframe thead th {\n",
       "        text-align: right;\n",
       "    }\n",
       "</style>\n",
       "<table border=\"1\" class=\"dataframe\">\n",
       "  <thead>\n",
       "    <tr style=\"text-align: right;\">\n",
       "      <th></th>\n",
       "      <th>id_emprendedor</th>\n",
       "      <th>id_medio</th>\n",
       "      <th>id</th>\n",
       "    </tr>\n",
       "  </thead>\n",
       "  <tbody>\n",
       "    <tr>\n",
       "      <th>0</th>\n",
       "      <td>E00000000</td>\n",
       "      <td>1</td>\n",
       "      <td>1</td>\n",
       "    </tr>\n",
       "    <tr>\n",
       "      <th>1</th>\n",
       "      <td>E00000001</td>\n",
       "      <td>1</td>\n",
       "      <td>2</td>\n",
       "    </tr>\n",
       "    <tr>\n",
       "      <th>2</th>\n",
       "      <td>E00000002</td>\n",
       "      <td>1</td>\n",
       "      <td>3</td>\n",
       "    </tr>\n",
       "    <tr>\n",
       "      <th>3</th>\n",
       "      <td>E00000003</td>\n",
       "      <td>1</td>\n",
       "      <td>4</td>\n",
       "    </tr>\n",
       "    <tr>\n",
       "      <th>4</th>\n",
       "      <td>E00000006</td>\n",
       "      <td>1</td>\n",
       "      <td>5</td>\n",
       "    </tr>\n",
       "    <tr>\n",
       "      <th>...</th>\n",
       "      <td>...</td>\n",
       "      <td>...</td>\n",
       "      <td>...</td>\n",
       "    </tr>\n",
       "    <tr>\n",
       "      <th>1152</th>\n",
       "      <td>E00000880</td>\n",
       "      <td>4</td>\n",
       "      <td>1153</td>\n",
       "    </tr>\n",
       "    <tr>\n",
       "      <th>1153</th>\n",
       "      <td>E00000881</td>\n",
       "      <td>4</td>\n",
       "      <td>1154</td>\n",
       "    </tr>\n",
       "    <tr>\n",
       "      <th>1154</th>\n",
       "      <td>E00000882</td>\n",
       "      <td>4</td>\n",
       "      <td>1155</td>\n",
       "    </tr>\n",
       "    <tr>\n",
       "      <th>1155</th>\n",
       "      <td>E00000883</td>\n",
       "      <td>4</td>\n",
       "      <td>1156</td>\n",
       "    </tr>\n",
       "    <tr>\n",
       "      <th>1156</th>\n",
       "      <td>E00000884</td>\n",
       "      <td>4</td>\n",
       "      <td>1157</td>\n",
       "    </tr>\n",
       "  </tbody>\n",
       "</table>\n",
       "<p>1157 rows × 3 columns</p>\n",
       "</div>"
      ],
      "text/plain": [
       "     id_emprendedor  id_medio    id\n",
       "0         E00000000         1     1\n",
       "1         E00000001         1     2\n",
       "2         E00000002         1     3\n",
       "3         E00000003         1     4\n",
       "4         E00000006         1     5\n",
       "...             ...       ...   ...\n",
       "1152      E00000880         4  1153\n",
       "1153      E00000881         4  1154\n",
       "1154      E00000882         4  1155\n",
       "1155      E00000883         4  1156\n",
       "1156      E00000884         4  1157\n",
       "\n",
       "[1157 rows x 3 columns]"
      ]
     },
     "execution_count": 43,
     "metadata": {},
     "output_type": "execute_result"
    }
   ],
   "source": [
    "aux = df[['id','promocionNegocio']].copy()\n",
    "aux[list(range(4))] = aux['promocionNegocio'].map(lambda x: x.split('|')).apply(pd.Series)\n",
    "aux = aux.melt(id_vars=['id'],value_vars=list(range(4)),value_name='dim_medio').dropna().drop(columns='variable').drop_duplicates().sort_values(by='id').reset_index(drop=True)\n",
    "cat_medios = aux[['dim_medio']].drop_duplicates().reset_index(drop=True)\n",
    "cat_medios['id_medio'] = cat_medios.index+1   \n",
    "aux = aux.merge(cat_medios,on='dim_medio',how='inner').drop(columns='dim_medio').rename(columns={'id':'id_emprendedor'})\n",
    "aux['id'] = aux.index+1\n",
    "aux"
   ]
  },
  {
   "cell_type": "markdown",
   "metadata": {},
   "source": [
    "## Hechos (métricas )"
   ]
  },
  {
   "cell_type": "code",
   "execution_count": 23,
   "metadata": {},
   "outputs": [],
   "source": [
    "hechos = ['edadEmprendedor','ventasPromedioDiarias']"
   ]
  },
  {
   "cell_type": "markdown",
   "metadata": {},
   "source": [
    "## Armado de cubos"
   ]
  },
  {
   "cell_type": "code",
   "execution_count": 36,
   "metadata": {},
   "outputs": [],
   "source": [
    "creds = json.load(open('creds.json','r'))\n",
    "cnx = create_engine(f\"mysql+mysqlconnector://{creds['u']}:{creds['p']}@{creds['h']}:3306/{creds['d']}\").connect()"
   ]
  },
  {
   "cell_type": "code",
   "execution_count": 37,
   "metadata": {},
   "outputs": [],
   "source": [
    "central = df.copy()\n",
    "central.rename(columns={'id':'id_emprendedor'},inplace=True)\n",
    "for c in central.filter(like='dim_').columns:\n",
    "    cat = central[[c]].drop_duplicates().reset_index(drop=True)\n",
    "    cat.insert(0,'id',cat.index+1)\n",
    "    central = central.merge(cat,on=c,how='inner').drop(c,axis=1).rename(columns={'id':f'id_{\"_\".join(c.split(\"_\")[1:])}'})\n",
    "    cat.to_sql(f'cat_{\"_\".join(c.split(\"_\")[1:])}',cnx,if_exists='replace',index=False)"
   ]
  },
  {
   "cell_type": "code",
   "execution_count": 25,
   "metadata": {},
   "outputs": [],
   "source": [
    "central = central.filter(like='id_')"
   ]
  },
  {
   "cell_type": "code",
   "execution_count": 26,
   "metadata": {},
   "outputs": [
    {
     "data": {
      "text/html": [
       "<div>\n",
       "<style scoped>\n",
       "    .dataframe tbody tr th:only-of-type {\n",
       "        vertical-align: middle;\n",
       "    }\n",
       "\n",
       "    .dataframe tbody tr th {\n",
       "        vertical-align: top;\n",
       "    }\n",
       "\n",
       "    .dataframe thead th {\n",
       "        text-align: right;\n",
       "    }\n",
       "</style>\n",
       "<table border=\"1\" class=\"dataframe\">\n",
       "  <thead>\n",
       "    <tr style=\"text-align: right;\">\n",
       "      <th></th>\n",
       "      <th>id_emprendedor</th>\n",
       "      <th>id_edad</th>\n",
       "      <th>id_sexo</th>\n",
       "      <th>id_escolaridad</th>\n",
       "      <th>id_dependientes</th>\n",
       "      <th>id_estado_civil</th>\n",
       "      <th>id_familia_ayuda</th>\n",
       "      <th>id_antiguedad</th>\n",
       "      <th>id_hora_apertura</th>\n",
       "      <th>id_hora_cierre</th>\n",
       "      <th>id_giro</th>\n",
       "      <th>id_empleados</th>\n",
       "      <th>id_ventas</th>\n",
       "      <th>id_contabilidad</th>\n",
       "      <th>id_sat</th>\n",
       "      <th>id_credito</th>\n",
       "      <th>id_credito_proveedor</th>\n",
       "    </tr>\n",
       "  </thead>\n",
       "  <tbody>\n",
       "    <tr>\n",
       "      <th>0</th>\n",
       "      <td>E00000000</td>\n",
       "      <td>1</td>\n",
       "      <td>1</td>\n",
       "      <td>1</td>\n",
       "      <td>1</td>\n",
       "      <td>1</td>\n",
       "      <td>1</td>\n",
       "      <td>1</td>\n",
       "      <td>1</td>\n",
       "      <td>1</td>\n",
       "      <td>1</td>\n",
       "      <td>1</td>\n",
       "      <td>1</td>\n",
       "      <td>1</td>\n",
       "      <td>1</td>\n",
       "      <td>1</td>\n",
       "      <td>1</td>\n",
       "    </tr>\n",
       "    <tr>\n",
       "      <th>1</th>\n",
       "      <td>E00000811</td>\n",
       "      <td>1</td>\n",
       "      <td>2</td>\n",
       "      <td>2</td>\n",
       "      <td>4</td>\n",
       "      <td>1</td>\n",
       "      <td>2</td>\n",
       "      <td>3</td>\n",
       "      <td>5</td>\n",
       "      <td>1</td>\n",
       "      <td>2</td>\n",
       "      <td>1</td>\n",
       "      <td>1</td>\n",
       "      <td>1</td>\n",
       "      <td>1</td>\n",
       "      <td>1</td>\n",
       "      <td>1</td>\n",
       "    </tr>\n",
       "    <tr>\n",
       "      <th>2</th>\n",
       "      <td>E00000212</td>\n",
       "      <td>1</td>\n",
       "      <td>1</td>\n",
       "      <td>2</td>\n",
       "      <td>3</td>\n",
       "      <td>2</td>\n",
       "      <td>2</td>\n",
       "      <td>4</td>\n",
       "      <td>4</td>\n",
       "      <td>4</td>\n",
       "      <td>2</td>\n",
       "      <td>1</td>\n",
       "      <td>1</td>\n",
       "      <td>1</td>\n",
       "      <td>1</td>\n",
       "      <td>1</td>\n",
       "      <td>1</td>\n",
       "    </tr>\n",
       "    <tr>\n",
       "      <th>3</th>\n",
       "      <td>E00000272</td>\n",
       "      <td>2</td>\n",
       "      <td>2</td>\n",
       "      <td>2</td>\n",
       "      <td>6</td>\n",
       "      <td>1</td>\n",
       "      <td>2</td>\n",
       "      <td>4</td>\n",
       "      <td>2</td>\n",
       "      <td>6</td>\n",
       "      <td>2</td>\n",
       "      <td>1</td>\n",
       "      <td>1</td>\n",
       "      <td>1</td>\n",
       "      <td>1</td>\n",
       "      <td>1</td>\n",
       "      <td>1</td>\n",
       "    </tr>\n",
       "    <tr>\n",
       "      <th>4</th>\n",
       "      <td>E00000616</td>\n",
       "      <td>1</td>\n",
       "      <td>1</td>\n",
       "      <td>2</td>\n",
       "      <td>2</td>\n",
       "      <td>1</td>\n",
       "      <td>2</td>\n",
       "      <td>1</td>\n",
       "      <td>4</td>\n",
       "      <td>2</td>\n",
       "      <td>4</td>\n",
       "      <td>2</td>\n",
       "      <td>1</td>\n",
       "      <td>1</td>\n",
       "      <td>1</td>\n",
       "      <td>1</td>\n",
       "      <td>1</td>\n",
       "    </tr>\n",
       "  </tbody>\n",
       "</table>\n",
       "</div>"
      ],
      "text/plain": [
       "  id_emprendedor  id_edad  id_sexo  id_escolaridad  id_dependientes  \\\n",
       "0      E00000000        1        1               1                1   \n",
       "1      E00000811        1        2               2                4   \n",
       "2      E00000212        1        1               2                3   \n",
       "3      E00000272        2        2               2                6   \n",
       "4      E00000616        1        1               2                2   \n",
       "\n",
       "   id_estado_civil  id_familia_ayuda  id_antiguedad  id_hora_apertura  \\\n",
       "0                1                 1              1                 1   \n",
       "1                1                 2              3                 5   \n",
       "2                2                 2              4                 4   \n",
       "3                1                 2              4                 2   \n",
       "4                1                 2              1                 4   \n",
       "\n",
       "   id_hora_cierre  id_giro  id_empleados  id_ventas  id_contabilidad  id_sat  \\\n",
       "0               1        1             1          1                1       1   \n",
       "1               1        2             1          1                1       1   \n",
       "2               4        2             1          1                1       1   \n",
       "3               6        2             1          1                1       1   \n",
       "4               2        4             2          1                1       1   \n",
       "\n",
       "   id_credito  id_credito_proveedor  \n",
       "0           1                     1  \n",
       "1           1                     1  \n",
       "2           1                     1  \n",
       "3           1                     1  \n",
       "4           1                     1  "
      ]
     },
     "execution_count": 26,
     "metadata": {},
     "output_type": "execute_result"
    }
   ],
   "source": [
    "central.head()"
   ]
  },
  {
   "cell_type": "code",
   "execution_count": 27,
   "metadata": {},
   "outputs": [],
   "source": [
    "tbl_hechos = df[['id']+hechos].rename(columns={'id':'id_emprendedor'})"
   ]
  },
  {
   "cell_type": "code",
   "execution_count": 28,
   "metadata": {},
   "outputs": [
    {
     "data": {
      "text/html": [
       "<div>\n",
       "<style scoped>\n",
       "    .dataframe tbody tr th:only-of-type {\n",
       "        vertical-align: middle;\n",
       "    }\n",
       "\n",
       "    .dataframe tbody tr th {\n",
       "        vertical-align: top;\n",
       "    }\n",
       "\n",
       "    .dataframe thead th {\n",
       "        text-align: right;\n",
       "    }\n",
       "</style>\n",
       "<table border=\"1\" class=\"dataframe\">\n",
       "  <thead>\n",
       "    <tr style=\"text-align: right;\">\n",
       "      <th></th>\n",
       "      <th>id_emprendedor</th>\n",
       "      <th>edadEmprendedor</th>\n",
       "      <th>ventasPromedioDiarias</th>\n",
       "    </tr>\n",
       "  </thead>\n",
       "  <tbody>\n",
       "    <tr>\n",
       "      <th>0</th>\n",
       "      <td>E00000000</td>\n",
       "      <td>54</td>\n",
       "      <td>3500.0</td>\n",
       "    </tr>\n",
       "    <tr>\n",
       "      <th>1</th>\n",
       "      <td>E00000001</td>\n",
       "      <td>56</td>\n",
       "      <td>4500.0</td>\n",
       "    </tr>\n",
       "    <tr>\n",
       "      <th>2</th>\n",
       "      <td>E00000002</td>\n",
       "      <td>46</td>\n",
       "      <td>26250.0</td>\n",
       "    </tr>\n",
       "    <tr>\n",
       "      <th>3</th>\n",
       "      <td>E00000003</td>\n",
       "      <td>49</td>\n",
       "      <td>1000.0</td>\n",
       "    </tr>\n",
       "    <tr>\n",
       "      <th>4</th>\n",
       "      <td>E00000004</td>\n",
       "      <td>47</td>\n",
       "      <td>12000.0</td>\n",
       "    </tr>\n",
       "  </tbody>\n",
       "</table>\n",
       "</div>"
      ],
      "text/plain": [
       "  id_emprendedor  edadEmprendedor  ventasPromedioDiarias\n",
       "0      E00000000               54                 3500.0\n",
       "1      E00000001               56                 4500.0\n",
       "2      E00000002               46                26250.0\n",
       "3      E00000003               49                 1000.0\n",
       "4      E00000004               47                12000.0"
      ]
     },
     "execution_count": 28,
     "metadata": {},
     "output_type": "execute_result"
    }
   ],
   "source": [
    "tbl_hechos.head()"
   ]
  },
  {
   "cell_type": "code",
   "execution_count": 29,
   "metadata": {},
   "outputs": [],
   "source": [
    "dims = list(central.columns)[1:]"
   ]
  },
  {
   "cell_type": "code",
   "execution_count": 30,
   "metadata": {},
   "outputs": [],
   "source": [
    "cubo = central.merge(tbl_hechos,on='id_emprendedor').groupby(dims).agg(**{'count_pymes':('id_emprendedor','count'),\n",
    "                                                                   'sum_edad':('edadEmprendedor','sum'),\n",
    "                                                                   'sum_ventas':('ventasPromedioDiarias','sum'),\n",
    "                                                                   }\n",
    "                                                                   ).reset_index()"
   ]
  },
  {
   "cell_type": "code",
   "execution_count": 38,
   "metadata": {},
   "outputs": [
    {
     "data": {
      "text/plain": [
       "884"
      ]
     },
     "execution_count": 38,
     "metadata": {},
     "output_type": "execute_result"
    }
   ],
   "source": [
    "cubo.to_sql('cubo',cnx,if_exists='replace',index=False)"
   ]
  },
  {
   "cell_type": "code",
   "execution_count": 40,
   "metadata": {},
   "outputs": [
    {
     "data": {
      "text/html": [
       "<div>\n",
       "<style scoped>\n",
       "    .dataframe tbody tr th:only-of-type {\n",
       "        vertical-align: middle;\n",
       "    }\n",
       "\n",
       "    .dataframe tbody tr th {\n",
       "        vertical-align: top;\n",
       "    }\n",
       "\n",
       "    .dataframe thead th {\n",
       "        text-align: right;\n",
       "    }\n",
       "</style>\n",
       "<table border=\"1\" class=\"dataframe\">\n",
       "  <thead>\n",
       "    <tr style=\"text-align: right;\">\n",
       "      <th></th>\n",
       "      <th>id_emprendedor</th>\n",
       "      <th>id_medio</th>\n",
       "      <th>id</th>\n",
       "    </tr>\n",
       "  </thead>\n",
       "  <tbody>\n",
       "    <tr>\n",
       "      <th>0</th>\n",
       "      <td>E00000000</td>\n",
       "      <td>1</td>\n",
       "      <td>1</td>\n",
       "    </tr>\n",
       "    <tr>\n",
       "      <th>1</th>\n",
       "      <td>E00000001</td>\n",
       "      <td>1</td>\n",
       "      <td>2</td>\n",
       "    </tr>\n",
       "    <tr>\n",
       "      <th>2</th>\n",
       "      <td>E00000002</td>\n",
       "      <td>1</td>\n",
       "      <td>3</td>\n",
       "    </tr>\n",
       "    <tr>\n",
       "      <th>3</th>\n",
       "      <td>E00000003</td>\n",
       "      <td>1</td>\n",
       "      <td>4</td>\n",
       "    </tr>\n",
       "    <tr>\n",
       "      <th>4</th>\n",
       "      <td>E00000006</td>\n",
       "      <td>1</td>\n",
       "      <td>5</td>\n",
       "    </tr>\n",
       "    <tr>\n",
       "      <th>...</th>\n",
       "      <td>...</td>\n",
       "      <td>...</td>\n",
       "      <td>...</td>\n",
       "    </tr>\n",
       "    <tr>\n",
       "      <th>1152</th>\n",
       "      <td>E00000880</td>\n",
       "      <td>4</td>\n",
       "      <td>1153</td>\n",
       "    </tr>\n",
       "    <tr>\n",
       "      <th>1153</th>\n",
       "      <td>E00000881</td>\n",
       "      <td>4</td>\n",
       "      <td>1154</td>\n",
       "    </tr>\n",
       "    <tr>\n",
       "      <th>1154</th>\n",
       "      <td>E00000882</td>\n",
       "      <td>4</td>\n",
       "      <td>1155</td>\n",
       "    </tr>\n",
       "    <tr>\n",
       "      <th>1155</th>\n",
       "      <td>E00000883</td>\n",
       "      <td>4</td>\n",
       "      <td>1156</td>\n",
       "    </tr>\n",
       "    <tr>\n",
       "      <th>1156</th>\n",
       "      <td>E00000884</td>\n",
       "      <td>4</td>\n",
       "      <td>1157</td>\n",
       "    </tr>\n",
       "  </tbody>\n",
       "</table>\n",
       "<p>1157 rows × 3 columns</p>\n",
       "</div>"
      ],
      "text/plain": [
       "     id_emprendedor  id_medio    id\n",
       "0         E00000000         1     1\n",
       "1         E00000001         1     2\n",
       "2         E00000002         1     3\n",
       "3         E00000003         1     4\n",
       "4         E00000006         1     5\n",
       "...             ...       ...   ...\n",
       "1152      E00000880         4  1153\n",
       "1153      E00000881         4  1154\n",
       "1154      E00000882         4  1155\n",
       "1155      E00000883         4  1156\n",
       "1156      E00000884         4  1157\n",
       "\n",
       "[1157 rows x 3 columns]"
      ]
     },
     "execution_count": 40,
     "metadata": {},
     "output_type": "execute_result"
    }
   ],
   "source": [
    "aux"
   ]
  },
  {
   "cell_type": "code",
   "execution_count": 44,
   "metadata": {},
   "outputs": [
    {
     "data": {
      "text/plain": [
       "1157"
      ]
     },
     "execution_count": 44,
     "metadata": {},
     "output_type": "execute_result"
    }
   ],
   "source": [
    "aux.to_sql('tbl_medios',cnx,if_exists='replace',index=False)"
   ]
  },
  {
   "cell_type": "code",
   "execution_count": 47,
   "metadata": {},
   "outputs": [
    {
     "data": {
      "text/plain": [
       "4"
      ]
     },
     "execution_count": 47,
     "metadata": {},
     "output_type": "execute_result"
    }
   ],
   "source": [
    "cat_medios.to_sql('cat_medios',cnx,if_exists='replace',index=False)"
   ]
  },
  {
   "cell_type": "code",
   "execution_count": 46,
   "metadata": {},
   "outputs": [
    {
     "data": {
      "text/html": [
       "<div>\n",
       "<style scoped>\n",
       "    .dataframe tbody tr th:only-of-type {\n",
       "        vertical-align: middle;\n",
       "    }\n",
       "\n",
       "    .dataframe tbody tr th {\n",
       "        vertical-align: top;\n",
       "    }\n",
       "\n",
       "    .dataframe thead th {\n",
       "        text-align: right;\n",
       "    }\n",
       "</style>\n",
       "<table border=\"1\" class=\"dataframe\">\n",
       "  <thead>\n",
       "    <tr style=\"text-align: right;\">\n",
       "      <th></th>\n",
       "      <th>dim_medio</th>\n",
       "      <th>id_medio</th>\n",
       "    </tr>\n",
       "  </thead>\n",
       "  <tbody>\n",
       "    <tr>\n",
       "      <th>0</th>\n",
       "      <td>publicidad exterior</td>\n",
       "      <td>1</td>\n",
       "    </tr>\n",
       "    <tr>\n",
       "      <th>1</th>\n",
       "      <td>volantes</td>\n",
       "      <td>2</td>\n",
       "    </tr>\n",
       "    <tr>\n",
       "      <th>2</th>\n",
       "      <td>redes sociales (sin pagar)</td>\n",
       "      <td>3</td>\n",
       "    </tr>\n",
       "    <tr>\n",
       "      <th>3</th>\n",
       "      <td>otro</td>\n",
       "      <td>4</td>\n",
       "    </tr>\n",
       "  </tbody>\n",
       "</table>\n",
       "</div>"
      ],
      "text/plain": [
       "                    dim_medio  id_medio\n",
       "0         publicidad exterior         1\n",
       "1                    volantes         2\n",
       "2  redes sociales (sin pagar)         3\n",
       "3                        otro         4"
      ]
     },
     "execution_count": 46,
     "metadata": {},
     "output_type": "execute_result"
    }
   ],
   "source": [
    "cat_medios"
   ]
  },
  {
   "cell_type": "code",
   "execution_count": null,
   "metadata": {},
   "outputs": [],
   "source": []
  }
 ],
 "metadata": {
  "kernelspec": {
   "display_name": "AI Plurall",
   "language": "python",
   "name": "plurall"
  },
  "language_info": {
   "codemirror_mode": {
    "name": "ipython",
    "version": 3
   },
   "file_extension": ".py",
   "mimetype": "text/x-python",
   "name": "python",
   "nbconvert_exporter": "python",
   "pygments_lexer": "ipython3",
   "version": "3.11.6"
  }
 },
 "nbformat": 4,
 "nbformat_minor": 2
}
