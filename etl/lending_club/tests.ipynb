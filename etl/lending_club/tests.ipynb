{
 "cells": [
  {
   "cell_type": "code",
   "execution_count": 3,
   "metadata": {},
   "outputs": [],
   "source": [
    "from auxiliares import Loan\n",
    "from glob import glob"
   ]
  },
  {
   "cell_type": "code",
   "execution_count": 4,
   "metadata": {},
   "outputs": [],
   "source": [
    "ruta = './data/json/*.json'\n",
    "archivos = glob(ruta)"
   ]
  },
  {
   "cell_type": "code",
   "execution_count": 5,
   "metadata": {},
   "outputs": [],
   "source": [
    "a = archivos[0]"
   ]
  },
  {
   "cell_type": "code",
   "execution_count": 6,
   "metadata": {},
   "outputs": [],
   "source": [
    "x = Loan(a)"
   ]
  },
  {
   "cell_type": "code",
   "execution_count": 7,
   "metadata": {},
   "outputs": [],
   "source": [
    "x.toParquet()"
   ]
  },
  {
   "cell_type": "code",
   "execution_count": 8,
   "metadata": {},
   "outputs": [
    {
     "data": {
      "text/html": [
       "<div>\n",
       "<style scoped>\n",
       "    .dataframe tbody tr th:only-of-type {\n",
       "        vertical-align: middle;\n",
       "    }\n",
       "\n",
       "    .dataframe tbody tr th {\n",
       "        vertical-align: top;\n",
       "    }\n",
       "\n",
       "    .dataframe thead th {\n",
       "        text-align: right;\n",
       "    }\n",
       "</style>\n",
       "<table border=\"1\" class=\"dataframe\">\n",
       "  <thead>\n",
       "    <tr style=\"text-align: right;\">\n",
       "      <th></th>\n",
       "      <th>loanID</th>\n",
       "      <th>loanAmount</th>\n",
       "      <th>loanTerm</th>\n",
       "      <th>subGrade</th>\n",
       "      <th>empTitle</th>\n",
       "      <th>homeOwnership</th>\n",
       "      <th>annualIncome</th>\n",
       "      <th>issueDate</th>\n",
       "      <th>loanStatus</th>\n",
       "      <th>purpose</th>\n",
       "      <th>addressState</th>\n",
       "      <th>debtToIncome</th>\n",
       "      <th>inquiriesLast6Months</th>\n",
       "      <th>totalAccounts</th>\n",
       "      <th>accountsEver120</th>\n",
       "    </tr>\n",
       "  </thead>\n",
       "  <tbody>\n",
       "    <tr>\n",
       "      <th>0</th>\n",
       "      <td>68364617</td>\n",
       "      <td>22500.0</td>\n",
       "      <td>6</td>\n",
       "      <td>A5</td>\n",
       "      <td>ACCOUNTANT</td>\n",
       "      <td>MORTGAGE</td>\n",
       "      <td>93000.0</td>\n",
       "      <td>2015-12-01</td>\n",
       "      <td>FULLY_PAID</td>\n",
       "      <td>DEBT_CONSOLIDATION</td>\n",
       "      <td>MD</td>\n",
       "      <td>14.34</td>\n",
       "      <td>0</td>\n",
       "      <td>26</td>\n",
       "      <td>0</td>\n",
       "    </tr>\n",
       "  </tbody>\n",
       "</table>\n",
       "</div>"
      ],
      "text/plain": [
       "     loanID  loanAmount  ... totalAccounts accountsEver120\n",
       "0  68364617     22500.0  ...            26               0\n",
       "\n",
       "[1 rows x 15 columns]"
      ]
     },
     "execution_count": 8,
     "metadata": {},
     "output_type": "execute_result"
    }
   ],
   "source": [
    "x.data"
   ]
  },
  {
   "cell_type": "code",
   "execution_count": null,
   "metadata": {},
   "outputs": [],
   "source": []
  }
 ],
 "metadata": {
  "kernelspec": {
   "display_name": "AI Plurall",
   "language": "python",
   "name": "plurall"
  },
  "language_info": {
   "codemirror_mode": {
    "name": "ipython",
    "version": 3
   },
   "file_extension": ".py",
   "mimetype": "text/x-python",
   "name": "python",
   "nbconvert_exporter": "python",
   "pygments_lexer": "ipython3",
   "version": "3.11.6"
  }
 },
 "nbformat": 4,
 "nbformat_minor": 2
}
